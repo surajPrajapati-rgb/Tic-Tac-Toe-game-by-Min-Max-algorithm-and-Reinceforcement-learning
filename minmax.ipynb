{
 "cells": [
  {
   "cell_type": "markdown",
   "id": "5fdf5873",
   "metadata": {},
   "source": [
    "# Min Max "
   ]
  },
  {
   "cell_type": "code",
   "execution_count": 1,
   "id": "456c6f37",
   "metadata": {},
   "outputs": [],
   "source": [
    "import json"
   ]
  },
  {
   "cell_type": "code",
   "execution_count": 2,
   "id": "8273d367",
   "metadata": {},
   "outputs": [],
   "source": [
    "def is_winLoseDraw(state):\n",
    "    if state[0] + state[1] + state[2] == 'XXX' or state[3] + state[4] + state[5] == 'XXX' or state[6] + state[7] + state[8] == 'XXX':\n",
    "        return True,1\n",
    "    elif state[0] + state[3] + state[6] == 'XXX' or state[1] + state[4] + state[7] == 'XXX' or state[2] + state[5] + state[8] == 'XXX':\n",
    "        return True,1\n",
    "    elif state[0] + state[4] + state[8] == 'XXX' or state[2] + state[4] + state[6] == 'XXX':\n",
    "        return True,1\n",
    "    \n",
    "    elif state[0] + state[1] + state[2] == 'OOO' or state[6] + state[7] + state[8] == 'OOO' or state[3] + state[4] + state[5] == 'OOO':\n",
    "        return True,-1\n",
    "    elif state[0] + state[3] + state[6] == 'OOO' or state[1] + state[4] + state[7] == 'OOO' or state[2] + state[5] + state[8] == 'OOO':\n",
    "        return True,-1\n",
    "    elif state[0] + state[4] + state[8] == 'OOO' or state[2] + state[4] + state[6] == 'OOO':\n",
    "        return True,-1\n",
    "    elif '-' not in state:  # Check for a draw when there are no empty spaces left\n",
    "        return True,0\n",
    "    else:\n",
    "        return False,0"
   ]
  },
  {
   "cell_type": "code",
   "execution_count": 3,
   "id": "f1372243",
   "metadata": {},
   "outputs": [],
   "source": [
    "def childrens(state, move):\n",
    "    child = []\n",
    "    state_list = list(state)\n",
    "    statecopy = state[:]\n",
    "    \n",
    "    if statecopy not in child_parent.keys():\n",
    "                child_parent[statecopy] = []\n",
    "            \n",
    "    for i in range(9):\n",
    "        newest = state_list.copy()\n",
    "        if newest[i] == \"-\":\n",
    "            newest[i] = move\n",
    "            new_string = ''.join(newest)\n",
    "            child.append(new_string)\n",
    "            value = is_winLoseDraw(new_string)[1]\n",
    "            Scores[new_string]=[value,move]\n",
    "            if new_string not in child_parent[statecopy]:\n",
    "                    child_parent[statecopy].append(new_string)\n",
    "                 \n",
    "    return child"
   ]
  },
  {
   "cell_type": "code",
   "execution_count": 4,
   "id": "51acce26",
   "metadata": {},
   "outputs": [],
   "source": [
    "   \n",
    "tree_graph = {}\n",
    "child_parent = {}\n",
    "terminalState = set()\n",
    "Scores={\"---------\":[0,\"O\"]}\n",
    "\n",
    "def makeTree(state, move = \"X\"):\n",
    "    tree_graph[str(state)] = [j for j in childrens(state, move)]\n",
    "    move = 'O' if move == 'X' else 'X'\n",
    "    for child in tree_graph[state]: \n",
    "        value = is_winLoseDraw(child)\n",
    "        if not value[0]:\n",
    "            makeTree(child, move)\n",
    "        else:\n",
    "            tree_graph[child] = []\n",
    "            terminalState.add((child, move))\n",
    "    \n",
    "\n",
    "board = \"---------\"\n",
    "makeTree(board)"
   ]
  },
  {
   "cell_type": "code",
   "execution_count": 5,
   "id": "c97a96b8",
   "metadata": {},
   "outputs": [],
   "source": [
    "for i in terminalState:\n",
    "    childrens(i[0], i[1])"
   ]
  },
  {
   "cell_type": "code",
   "execution_count": 6,
   "id": "aa1638f5",
   "metadata": {},
   "outputs": [],
   "source": [
    "onlyterminal = []\n",
    "for i in terminalState:\n",
    "    onlyterminal.append(i[0])"
   ]
  },
  {
   "cell_type": "code",
   "execution_count": 7,
   "id": "4fbf7966",
   "metadata": {},
   "outputs": [],
   "source": [
    "# json_file_path = \"outputgraph.json\"\n",
    "\n",
    "# with open(json_file_path, 'w') as json_file:\n",
    "#     json.dump(tree_graph, json_file, indent=2)"
   ]
  },
  {
   "cell_type": "code",
   "execution_count": 8,
   "id": "0c9f026d",
   "metadata": {
    "scrolled": true
   },
   "outputs": [],
   "source": [
    "# tree_graph"
   ]
  },
  {
   "cell_type": "code",
   "execution_count": 9,
   "id": "5c28f78e",
   "metadata": {
    "scrolled": true
   },
   "outputs": [],
   "source": [
    "json_file_path = \"score.json\"\n",
    "\n",
    "with open(json_file_path, 'w') as json_file:\n",
    "    json.dump(tree_graph, json_file, indent=2)"
   ]
  },
  {
   "cell_type": "code",
   "execution_count": 10,
   "id": "7757e3b0",
   "metadata": {},
   "outputs": [],
   "source": [
    "# Scores"
   ]
  },
  {
   "cell_type": "code",
   "execution_count": 11,
   "id": "85d7cd5b",
   "metadata": {},
   "outputs": [],
   "source": [
    "def makeParents(state, move):\n",
    "    parent = []\n",
    "    state_list = list(state)\n",
    "    for i in range(9):\n",
    "        newest = state_list.copy()\n",
    "        if newest[i] != move and newest[i] != \"-\" :\n",
    "            newest[i] = \"-\"\n",
    "            new_string = ''.join(newest)\n",
    "            if new_string not in onlyterminal:\n",
    "                parent.append(new_string) \n",
    "    return parent\n",
    "\n",
    "move = \"X\"\n",
    "child_parent = {}\n",
    "for child in tree_graph:\n",
    "    move = 'O' if move == 'X' else 'X'\n",
    "    child_parent[child] = makeParents(child, move)\n",
    "    "
   ]
  },
  {
   "cell_type": "code",
   "execution_count": 12,
   "id": "5baeebcf",
   "metadata": {
    "scrolled": true
   },
   "outputs": [],
   "source": [
    "# child_parent"
   ]
  },
  {
   "cell_type": "code",
   "execution_count": 13,
   "id": "26be4334",
   "metadata": {
    "scrolled": true
   },
   "outputs": [
    {
     "data": {
      "text/plain": [
       "5478"
      ]
     },
     "execution_count": 13,
     "metadata": {},
     "output_type": "execute_result"
    }
   ],
   "source": [
    "len(child_parent)"
   ]
  },
  {
   "cell_type": "code",
   "execution_count": null,
   "id": "1e932fe5",
   "metadata": {},
   "outputs": [],
   "source": []
  },
  {
   "cell_type": "code",
   "execution_count": 14,
   "id": "0fd596ac",
   "metadata": {},
   "outputs": [],
   "source": [
    "def update_value():\n",
    "    for terminal in terminalState:\n",
    "        parents = child_parent[terminal[0]]\n",
    "#         print(parents)\n",
    "        updateHelper(parents, )\n",
    "\n",
    "def updateHelper(parents):\n",
    "#     print(parents)\n",
    "    for j in parents:\n",
    "        valueList = []\n",
    "        try:\n",
    "            child = tree_graph[j]\n",
    "            for k in child:\n",
    "                valueList.append(Scores[k][0])\n",
    "            if Scores[j][1] == 'X':\n",
    "                Scores[j][0] = min(valueList)\n",
    "            else:\n",
    "                Scores[j][0] = max(valueList)\n",
    "            parents = child_parent[j]\n",
    "            update_helper(parents) \n",
    "        except:\n",
    "            continue\n",
    "                \n",
    "update_value()"
   ]
  },
  {
   "cell_type": "code",
   "execution_count": null,
   "id": "e148a0e6",
   "metadata": {},
   "outputs": [],
   "source": []
  },
  {
   "cell_type": "code",
   "execution_count": 15,
   "id": "9ed5c513",
   "metadata": {},
   "outputs": [],
   "source": [
    "def position_for_move(state, action):\n",
    "    for i in range(9):\n",
    "        if state[i] == '-' and action[i] != '-':\n",
    "            return i\n",
    "            \n",
    "def best_move(state):\n",
    "    state = \"\".join(state)\n",
    "    children = tree_graph[state]\n",
    "    move = Scores[state][1]\n",
    "    score_lst = {}\n",
    "\n",
    "    for i in children:\n",
    "        score_lst[Scores[i][0]] = i\n",
    "\n",
    "    move_score = min(score_lst.keys())\n",
    "    move = score_lst[move_score]\n",
    "    return position_for_move(state, move)"
   ]
  },
  {
   "cell_type": "code",
   "execution_count": 16,
   "id": "8e04cba4",
   "metadata": {},
   "outputs": [],
   "source": [
    "def user_move_index():\n",
    "    index = int(input(\"Enter the row [1,2,3]:- \"))\n",
    "    return index"
   ]
  },
  {
   "cell_type": "code",
   "execution_count": 17,
   "id": "598e2803",
   "metadata": {},
   "outputs": [],
   "source": [
    "def display(state):\n",
    "    print('-------------------')\n",
    "    print('| ',state[0],' | ',state[1],' | ',state[2],' |')\n",
    "    print('-------------------')\n",
    "    print('| ',state[3],' | ',state[4],' | ',state[5],' |')\n",
    "    print('-------------------')\n",
    "    print('| ',state[6],' | ',state[7],' | ',state[8],' |')\n",
    "    print('-------------------')"
   ]
  },
  {
   "cell_type": "code",
   "execution_count": 18,
   "id": "d684551f",
   "metadata": {},
   "outputs": [],
   "source": [
    "def play_game():\n",
    "    state = list(\"---------\")\n",
    "    display(state)\n",
    "    player = 0\n",
    "    while not is_winLoseDraw(state)[0]:\n",
    "        if player % 2 ==0:\n",
    "            index = user_move_index()\n",
    "            state[index-1] = 'X'\n",
    "        else:\n",
    "            index = best_move(state)\n",
    "            state[index-1]='O'\n",
    "        display(state)\n",
    "        player += 1\n",
    "        \n",
    "        terminal = is_winLoseDraw(state)\n",
    "        if terminal[1] == -1:\n",
    "            return 'Computer won'\n",
    "        elif terminal[1] == 1:\n",
    "            return 'You won'\n",
    "        elif terminal[0] and terminal[1] == 0:\n",
    "            return 'Match draw'"
   ]
  },
  {
   "cell_type": "markdown",
   "id": "59ce016e",
   "metadata": {},
   "source": [
    "# play_game()"
   ]
  },
  {
   "cell_type": "code",
   "execution_count": null,
   "id": "03894faf",
   "metadata": {},
   "outputs": [
    {
     "name": "stdout",
     "output_type": "stream",
     "text": [
      "-------------------\n",
      "|  -  |  -  |  -  |\n",
      "-------------------\n",
      "|  -  |  -  |  -  |\n",
      "-------------------\n",
      "|  -  |  -  |  -  |\n",
      "-------------------\n",
      "Enter the row [1,2,3]:- 1\n",
      "-------------------\n",
      "|  X  |  -  |  -  |\n",
      "-------------------\n",
      "|  -  |  -  |  -  |\n",
      "-------------------\n",
      "|  -  |  -  |  -  |\n",
      "-------------------\n",
      "-------------------\n",
      "|  X  |  -  |  -  |\n",
      "-------------------\n",
      "|  -  |  -  |  -  |\n",
      "-------------------\n",
      "|  -  |  O  |  -  |\n",
      "-------------------\n",
      "Enter the row [1,2,3]:- 3\n",
      "-------------------\n",
      "|  X  |  -  |  X  |\n",
      "-------------------\n",
      "|  -  |  -  |  -  |\n",
      "-------------------\n",
      "|  -  |  O  |  -  |\n",
      "-------------------\n",
      "-------------------\n",
      "|  X  |  -  |  X  |\n",
      "-------------------\n",
      "|  -  |  -  |  -  |\n",
      "-------------------\n",
      "|  -  |  O  |  -  |\n",
      "-------------------\n"
     ]
    }
   ],
   "source": [
    "play_game()"
   ]
  },
  {
   "cell_type": "code",
   "execution_count": null,
   "id": "2582eea5",
   "metadata": {},
   "outputs": [],
   "source": []
  }
 ],
 "metadata": {
  "kernelspec": {
   "display_name": "Python 3 (ipykernel)",
   "language": "python",
   "name": "python3"
  },
  "language_info": {
   "codemirror_mode": {
    "name": "ipython",
    "version": 3
   },
   "file_extension": ".py",
   "mimetype": "text/x-python",
   "name": "python",
   "nbconvert_exporter": "python",
   "pygments_lexer": "ipython3",
   "version": "3.10.12"
  }
 },
 "nbformat": 4,
 "nbformat_minor": 5
}
